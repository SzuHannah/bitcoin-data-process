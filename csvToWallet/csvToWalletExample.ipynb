{
 "metadata": {
  "language_info": {
   "codemirror_mode": {
    "name": "ipython",
    "version": 3
   },
   "file_extension": ".py",
   "mimetype": "text/x-python",
   "name": "python",
   "nbconvert_exporter": "python",
   "pygments_lexer": "ipython3",
   "version": "3.8.2-final"
  },
  "orig_nbformat": 2,
  "kernelspec": {
   "name": "python_defaultSpec_1598389629681",
   "display_name": "Python 3.8.2 64-bit"
  }
 },
 "nbformat": 4,
 "nbformat_minor": 2,
 "cells": [
  {
   "cell_type": "code",
   "execution_count": 47,
   "metadata": {},
   "outputs": [],
   "source": [
    "import pandas as pd\n",
    "from edge_list_builder import EdgeListBuilder\n",
    "from wallet_builder import WalletBuilder\n",
    "from wallet import Wallet\n",
    "import csv"
   ]
  },
  {
   "source": [
    "# edge-list-builder example:\n",
    "## within the edge_list_builder.py, you can change the directory that you want to export the edgecsv\n",
    "## EdgeListBuilder class take in a mapped-block-csv file, i.e. the file that already mapped string address to integer address\n",
    "## for a mapped-block-csv-file, it can contain multiple block heights (you can concatenate the files yourself before building the edgecsv)\n",
    "## here is a mapped-block-csv file, that the EdgeListBuilder can read (file name: block546634_546636_mapped.csv, this file contains block height 546634-546636)"
   ],
   "cell_type": "code",
   "metadata": {
    "tags": []
   },
   "execution_count": 8,
   "outputs": []
  },
  {
   "cell_type": "code",
   "execution_count": 5,
   "metadata": {},
   "outputs": [
    {
     "output_type": "execute_result",
     "data": {
      "text/plain": "       tran_id      value tran_type  block_id   addr\n0            0  12.567255    output    546634      1\n1            1   0.001637     input    546634      2\n2            1   0.001062     input    546634      3\n3            1   0.082945     input    546634      4\n4            1   0.002452     input    546634      5\n...        ...        ...       ...       ...    ...\n32939     3552   0.000003     input    546636  25267\n32940     3552   0.000003    output    546636  25209\n32941     3552   0.000003    output    546636  25266\n32942     3552   0.000003    output    546636  25267\n32943        0   0.141205     miner    546636  16482\n\n[32944 rows x 5 columns]",
      "text/html": "<div>\n<style scoped>\n    .dataframe tbody tr th:only-of-type {\n        vertical-align: middle;\n    }\n\n    .dataframe tbody tr th {\n        vertical-align: top;\n    }\n\n    .dataframe thead th {\n        text-align: right;\n    }\n</style>\n<table border=\"1\" class=\"dataframe\">\n  <thead>\n    <tr style=\"text-align: right;\">\n      <th></th>\n      <th>tran_id</th>\n      <th>value</th>\n      <th>tran_type</th>\n      <th>block_id</th>\n      <th>addr</th>\n    </tr>\n  </thead>\n  <tbody>\n    <tr>\n      <th>0</th>\n      <td>0</td>\n      <td>12.567255</td>\n      <td>output</td>\n      <td>546634</td>\n      <td>1</td>\n    </tr>\n    <tr>\n      <th>1</th>\n      <td>1</td>\n      <td>0.001637</td>\n      <td>input</td>\n      <td>546634</td>\n      <td>2</td>\n    </tr>\n    <tr>\n      <th>2</th>\n      <td>1</td>\n      <td>0.001062</td>\n      <td>input</td>\n      <td>546634</td>\n      <td>3</td>\n    </tr>\n    <tr>\n      <th>3</th>\n      <td>1</td>\n      <td>0.082945</td>\n      <td>input</td>\n      <td>546634</td>\n      <td>4</td>\n    </tr>\n    <tr>\n      <th>4</th>\n      <td>1</td>\n      <td>0.002452</td>\n      <td>input</td>\n      <td>546634</td>\n      <td>5</td>\n    </tr>\n    <tr>\n      <th>...</th>\n      <td>...</td>\n      <td>...</td>\n      <td>...</td>\n      <td>...</td>\n      <td>...</td>\n    </tr>\n    <tr>\n      <th>32939</th>\n      <td>3552</td>\n      <td>0.000003</td>\n      <td>input</td>\n      <td>546636</td>\n      <td>25267</td>\n    </tr>\n    <tr>\n      <th>32940</th>\n      <td>3552</td>\n      <td>0.000003</td>\n      <td>output</td>\n      <td>546636</td>\n      <td>25209</td>\n    </tr>\n    <tr>\n      <th>32941</th>\n      <td>3552</td>\n      <td>0.000003</td>\n      <td>output</td>\n      <td>546636</td>\n      <td>25266</td>\n    </tr>\n    <tr>\n      <th>32942</th>\n      <td>3552</td>\n      <td>0.000003</td>\n      <td>output</td>\n      <td>546636</td>\n      <td>25267</td>\n    </tr>\n    <tr>\n      <th>32943</th>\n      <td>0</td>\n      <td>0.141205</td>\n      <td>miner</td>\n      <td>546636</td>\n      <td>16482</td>\n    </tr>\n  </tbody>\n</table>\n<p>32944 rows × 5 columns</p>\n</div>"
     },
     "metadata": {},
     "execution_count": 5
    }
   ],
   "source": [
    "mappedcsv=\"../mapped/block546634_546636_mapped.csv\"\n",
    "mapped_df=pd.read_csv(mappedcsv)\n",
    "mapped_df"
   ]
  },
  {
   "cell_type": "code",
   "execution_count": 10,
   "metadata": {},
   "outputs": [],
   "source": [
    "## edge-list-builder constructors\n",
    "## there are two constructors in this class, you can either take all data from the block file or take partial data from the block file\n",
    "## take all data from the block file: EdgeListBuilder.fromWhole(mappedcsv)\n",
    "## take partial data from the block file: EdgeListBuilder.fromPartial(mappedcsv) \n",
    "## scenario: I usually use EdgeListBuilder.fromPartial for testing or when the computer memory is not enough.\n",
    "## If you run the script on peach, .fromWhole should works fine even for a mappedcsv that contains lots of block height (eg. the above block546634_547756_mapped.csv). \n",
    "## Your mappedcsv file con contain only one block height as well\n",
    "mappedcsv2=\"../mapped/block546634_mapped.csv\"\n",
    "## case1: build from whole data\n",
    "eb = EdgeListBuilder.fromWhole(mappedcsv2)\n",
    "## case2: build from partial data\n",
    "eb2 = EdgeListBuilder.fromPartial(mappedcsv,546634,546635)\n",
    "\n"
   ]
  },
  {
   "cell_type": "code",
   "execution_count": 11,
   "metadata": {
    "tags": []
   },
   "outputs": [
    {
     "output_type": "stream",
     "name": "stdout",
     "text": "../edgecsv/block546634_546634_edge.csv\n../edgecsv/block546634_546635_edge.csv\n"
    }
   ],
   "source": [
    "## if all your file's headers look the same as the mapped_df, you'll only need to call .constructEdgeListCSV() to construct the edgelist csv\n",
    "eb.constructEdgeListCSV()\n",
    "eb2.constructEdgeListCSV()\n",
    "## if you're not sute where the files are, do:\n",
    "print(eb.getCSVFileName())\n",
    "print(eb2.getCSVFileName())\n"
   ]
  },
  {
   "cell_type": "code",
   "execution_count": null,
   "metadata": {},
   "outputs": [],
   "source": [
    "## to build edgecsv for multiple files (you can put the code in driver.py or create your own script), for example:\n",
    "\n",
    "# mappedcsv_ls=[\"block570001_571667_mapped.csv\",\"block571668_573333_mapped.csv\",\"block573334_575000_mapped.csv\"]\n",
    "# directory=\"../mapped/fivesth_batch/\"\n",
    "# for m in mappedcsv_ls:\n",
    "#     mappedcsv=directory+m\n",
    "#     eb=EdgeListBuilder.fromWhole(mappedcsv)\n",
    "#     eb.constructEdgeListCSV()\n",
    "#     print(\"yielded edgecsv for  %s\"%m)"
   ]
  },
  {
   "cell_type": "code",
   "execution_count": null,
   "metadata": {},
   "outputs": [],
   "source": [
    "# wallet builder example:\n",
    "## this wallet builder can incrementally read the edgecsv files.\n",
    "## It implements the union-find algorithm to group addr into a wallet. It records each addr's parent, and the child amount each parent has.\n",
    "## This class has three constructors:\n",
    "## (1) .new: need to use this when you build the wallet structure for the very first time, it takes a wallet-structure-file name you would like, and the number of addrs you want to initialize. I tested as large as 600,000,000..So, it should be able to accomodate all addrs in bitcoin ledger\n",
    "## (2) .edit: need to use this when you want to add edges to the wallet structure, but no need to add verteces. Eg. If the first time I initialize the wallet structure to be as large as 600,000,000-addrs; then, in the future, every time I just need to open an existed wallet-structure-file, and pass in edgecsv files to add edges. It takes an existed wallet-structure-file name.\n",
    "## (3) .edit_and_append: need this when you need to add more edges and add more addrs to the wallet structure. It takes an existed wallet-structure-file name, and the max addr you would like the wallet structure to include until. "
   ]
  },
  {
   "cell_type": "code",
   "execution_count": 18,
   "metadata": {
    "tags": []
   },
   "outputs": [
    {
     "output_type": "stream",
     "name": "stdout",
     "text": "create a new wallet structure: walletstr_test.csv with 30 addrs\n"
    },
    {
     "output_type": "execute_result",
     "data": {
      "text/plain": "[0,\n 1,\n 2,\n 3,\n 4,\n 5,\n 6,\n 7,\n 8,\n 9,\n 10,\n 11,\n 12,\n 13,\n 14,\n 15,\n 16,\n 17,\n 18,\n 19,\n 20,\n 21,\n 22,\n 23,\n 24,\n 25,\n 26,\n 27,\n 28,\n 29]"
     },
     "metadata": {},
     "execution_count": 18
    }
   ],
   "source": [
    "## (1) constructor case 1: .new, output wallet-structure file is test_walletStructure.csv, and initialize address number to 30 (this will include address 0-29)\n",
    "wb=WalletBuilder.new(\"walletstr_test.csv\",30)\n",
    "## initially, each address is its onw parent, you can call .par varialbe to see the parent id array\n",
    "wb.par"
   ]
  },
  {
   "cell_type": "code",
   "execution_count": 22,
   "metadata": {},
   "outputs": [
    {
     "output_type": "execute_result",
     "data": {
      "text/plain": "    0   1\n0   2   3\n1   2   4\n2   2   5\n3   2   6\n4   2   7\n5   2   8\n6   2   9\n7   2  10\n8   2  11\n9   2  12\n10  2  13\n11  2  14\n12  2  15\n13  2  16\n14  2  17\n15  2  18\n16  2  19\n17  2  20\n18  2  21\n19  2  22\n20  2  23\n21  2  24\n22  2  25\n23  3   4\n24  3   5\n25  3   6\n26  3   7\n27  3   8\n28  3   9",
      "text/html": "<div>\n<style scoped>\n    .dataframe tbody tr th:only-of-type {\n        vertical-align: middle;\n    }\n\n    .dataframe tbody tr th {\n        vertical-align: top;\n    }\n\n    .dataframe thead th {\n        text-align: right;\n    }\n</style>\n<table border=\"1\" class=\"dataframe\">\n  <thead>\n    <tr style=\"text-align: right;\">\n      <th></th>\n      <th>0</th>\n      <th>1</th>\n    </tr>\n  </thead>\n  <tbody>\n    <tr>\n      <th>0</th>\n      <td>2</td>\n      <td>3</td>\n    </tr>\n    <tr>\n      <th>1</th>\n      <td>2</td>\n      <td>4</td>\n    </tr>\n    <tr>\n      <th>2</th>\n      <td>2</td>\n      <td>5</td>\n    </tr>\n    <tr>\n      <th>3</th>\n      <td>2</td>\n      <td>6</td>\n    </tr>\n    <tr>\n      <th>4</th>\n      <td>2</td>\n      <td>7</td>\n    </tr>\n    <tr>\n      <th>5</th>\n      <td>2</td>\n      <td>8</td>\n    </tr>\n    <tr>\n      <th>6</th>\n      <td>2</td>\n      <td>9</td>\n    </tr>\n    <tr>\n      <th>7</th>\n      <td>2</td>\n      <td>10</td>\n    </tr>\n    <tr>\n      <th>8</th>\n      <td>2</td>\n      <td>11</td>\n    </tr>\n    <tr>\n      <th>9</th>\n      <td>2</td>\n      <td>12</td>\n    </tr>\n    <tr>\n      <th>10</th>\n      <td>2</td>\n      <td>13</td>\n    </tr>\n    <tr>\n      <th>11</th>\n      <td>2</td>\n      <td>14</td>\n    </tr>\n    <tr>\n      <th>12</th>\n      <td>2</td>\n      <td>15</td>\n    </tr>\n    <tr>\n      <th>13</th>\n      <td>2</td>\n      <td>16</td>\n    </tr>\n    <tr>\n      <th>14</th>\n      <td>2</td>\n      <td>17</td>\n    </tr>\n    <tr>\n      <th>15</th>\n      <td>2</td>\n      <td>18</td>\n    </tr>\n    <tr>\n      <th>16</th>\n      <td>2</td>\n      <td>19</td>\n    </tr>\n    <tr>\n      <th>17</th>\n      <td>2</td>\n      <td>20</td>\n    </tr>\n    <tr>\n      <th>18</th>\n      <td>2</td>\n      <td>21</td>\n    </tr>\n    <tr>\n      <th>19</th>\n      <td>2</td>\n      <td>22</td>\n    </tr>\n    <tr>\n      <th>20</th>\n      <td>2</td>\n      <td>23</td>\n    </tr>\n    <tr>\n      <th>21</th>\n      <td>2</td>\n      <td>24</td>\n    </tr>\n    <tr>\n      <th>22</th>\n      <td>2</td>\n      <td>25</td>\n    </tr>\n    <tr>\n      <th>23</th>\n      <td>3</td>\n      <td>4</td>\n    </tr>\n    <tr>\n      <th>24</th>\n      <td>3</td>\n      <td>5</td>\n    </tr>\n    <tr>\n      <th>25</th>\n      <td>3</td>\n      <td>6</td>\n    </tr>\n    <tr>\n      <th>26</th>\n      <td>3</td>\n      <td>7</td>\n    </tr>\n    <tr>\n      <th>27</th>\n      <td>3</td>\n      <td>8</td>\n    </tr>\n    <tr>\n      <th>28</th>\n      <td>3</td>\n      <td>9</td>\n    </tr>\n  </tbody>\n</table>\n</div>"
     },
     "metadata": {},
     "execution_count": 22
    }
   ],
   "source": [
    "## here is a peak of an xxxedge.csv that the wallet builder can make use of:\n",
    "pd.read_csv(\"./testdata/test_edge.csv\", header=None)\n",
    "# so, the edges are (2,3); (2,4); ..."
   ]
  },
  {
   "cell_type": "code",
   "execution_count": 26,
   "metadata": {},
   "outputs": [],
   "source": [
    "## mainly, we insert each edge-pair in the edgcsv to the wallet builder\n",
    "## the method to build edge is .unite\n",
    "## these testdata are available in the ./testdata/ directory\n",
    "directory=\"./testdata/\"\n",
    "edgecsvs=[\"test_edge.csv\",\"test_edge2.csv\",\"test_edge3.csv\"]\n",
    "\n",
    "for ec in edgecsvs:\n",
    "    ecpath=directory+ec\n",
    "    with open(ecpath) as f:\n",
    "        readCSV=csv.reader(f,delimiter=',')\n",
    "        for row in readCSV:\n",
    "            i=int(row[0])\n",
    "            j=int(row[1])\n",
    "            wb.unite(i,j)"
   ]
  },
  {
   "cell_type": "code",
   "execution_count": 27,
   "metadata": {},
   "outputs": [],
   "source": [
    "## if you need to take a break from reading edgecsv, you can save the process. By saving the process, we save the wallet structure, including the parent id(wb.par) and each parent's size(wb.sz) list. \n",
    "## In this example, parent id list is saved as walletstr_test,csv; size list is saved as walletstr_test_size.csv\n",
    "## Next time, when you wan to resume wallet building, we can just read in the wallet structure\n",
    "## To save the process:\n",
    "wb.saveProcess()\n",
    "## if you run the example above, after calling .saveProcess you should now see two csv files: 'walletstr_test.csv' and 'walletstr_test_size.csv'. \n",
    "## p.s. the size.csv file is named automatically according to the name you gave to the wallet builder constructor"
   ]
  },
  {
   "cell_type": "code",
   "execution_count": 28,
   "metadata": {},
   "outputs": [
    {
     "output_type": "execute_result",
     "data": {
      "text/plain": "     0   1\n0    0   2\n1    1   2\n2    2   2\n3    3   2\n4    4   2\n5    5   2\n6    6   2\n7    7   2\n8    8   2\n9    9   2\n10  10   2\n11  11   2\n12  12   2\n13  13   2\n14  14   2\n15  15   2\n16  16   2\n17  17   2\n18  18   2\n19  19   2\n20  20   2\n21  21   2\n22  22   2\n23  23   2\n24  24   2\n25  25   2\n26  26  26\n27  27  27\n28  28   2\n29  29  27",
      "text/html": "<div>\n<style scoped>\n    .dataframe tbody tr th:only-of-type {\n        vertical-align: middle;\n    }\n\n    .dataframe tbody tr th {\n        vertical-align: top;\n    }\n\n    .dataframe thead th {\n        text-align: right;\n    }\n</style>\n<table border=\"1\" class=\"dataframe\">\n  <thead>\n    <tr style=\"text-align: right;\">\n      <th></th>\n      <th>0</th>\n      <th>1</th>\n    </tr>\n  </thead>\n  <tbody>\n    <tr>\n      <th>0</th>\n      <td>0</td>\n      <td>2</td>\n    </tr>\n    <tr>\n      <th>1</th>\n      <td>1</td>\n      <td>2</td>\n    </tr>\n    <tr>\n      <th>2</th>\n      <td>2</td>\n      <td>2</td>\n    </tr>\n    <tr>\n      <th>3</th>\n      <td>3</td>\n      <td>2</td>\n    </tr>\n    <tr>\n      <th>4</th>\n      <td>4</td>\n      <td>2</td>\n    </tr>\n    <tr>\n      <th>5</th>\n      <td>5</td>\n      <td>2</td>\n    </tr>\n    <tr>\n      <th>6</th>\n      <td>6</td>\n      <td>2</td>\n    </tr>\n    <tr>\n      <th>7</th>\n      <td>7</td>\n      <td>2</td>\n    </tr>\n    <tr>\n      <th>8</th>\n      <td>8</td>\n      <td>2</td>\n    </tr>\n    <tr>\n      <th>9</th>\n      <td>9</td>\n      <td>2</td>\n    </tr>\n    <tr>\n      <th>10</th>\n      <td>10</td>\n      <td>2</td>\n    </tr>\n    <tr>\n      <th>11</th>\n      <td>11</td>\n      <td>2</td>\n    </tr>\n    <tr>\n      <th>12</th>\n      <td>12</td>\n      <td>2</td>\n    </tr>\n    <tr>\n      <th>13</th>\n      <td>13</td>\n      <td>2</td>\n    </tr>\n    <tr>\n      <th>14</th>\n      <td>14</td>\n      <td>2</td>\n    </tr>\n    <tr>\n      <th>15</th>\n      <td>15</td>\n      <td>2</td>\n    </tr>\n    <tr>\n      <th>16</th>\n      <td>16</td>\n      <td>2</td>\n    </tr>\n    <tr>\n      <th>17</th>\n      <td>17</td>\n      <td>2</td>\n    </tr>\n    <tr>\n      <th>18</th>\n      <td>18</td>\n      <td>2</td>\n    </tr>\n    <tr>\n      <th>19</th>\n      <td>19</td>\n      <td>2</td>\n    </tr>\n    <tr>\n      <th>20</th>\n      <td>20</td>\n      <td>2</td>\n    </tr>\n    <tr>\n      <th>21</th>\n      <td>21</td>\n      <td>2</td>\n    </tr>\n    <tr>\n      <th>22</th>\n      <td>22</td>\n      <td>2</td>\n    </tr>\n    <tr>\n      <th>23</th>\n      <td>23</td>\n      <td>2</td>\n    </tr>\n    <tr>\n      <th>24</th>\n      <td>24</td>\n      <td>2</td>\n    </tr>\n    <tr>\n      <th>25</th>\n      <td>25</td>\n      <td>2</td>\n    </tr>\n    <tr>\n      <th>26</th>\n      <td>26</td>\n      <td>26</td>\n    </tr>\n    <tr>\n      <th>27</th>\n      <td>27</td>\n      <td>27</td>\n    </tr>\n    <tr>\n      <th>28</th>\n      <td>28</td>\n      <td>2</td>\n    </tr>\n    <tr>\n      <th>29</th>\n      <td>29</td>\n      <td>27</td>\n    </tr>\n  </tbody>\n</table>\n</div>"
     },
     "metadata": {},
     "execution_count": 28
    }
   ],
   "source": [
    "## you can verify that after reading \"test_edge.csv\",\"test_edge2.csv\",\"test_edge3.csv\", the 'walletstr_test.csv' now looks different\n",
    "## initially, each address is its own parent, now, 0-25,28 has 2 as their parent; 26's parent: 26; 27,29's parent: 27\n",
    "pd.read_csv(\"walletstr_test.csv\", header=None)"
   ]
  },
  {
   "cell_type": "code",
   "execution_count": 29,
   "metadata": {},
   "outputs": [
    {
     "output_type": "execute_result",
     "data": {
      "text/plain": "     0   1\n0    0   1\n1    1   1\n2    2  27\n3    3   1\n4    4   1\n5    5   1\n6    6   1\n7    7   1\n8    8   1\n9    9   1\n10  10   1\n11  11   1\n12  12   1\n13  13   1\n14  14   1\n15  15   1\n16  16   1\n17  17   1\n18  18   1\n19  19   1\n20  20   1\n21  21   1\n22  22   1\n23  23   1\n24  24   1\n25  25   1\n26  26   1\n27  27   2\n28  28   1\n29  29   1",
      "text/html": "<div>\n<style scoped>\n    .dataframe tbody tr th:only-of-type {\n        vertical-align: middle;\n    }\n\n    .dataframe tbody tr th {\n        vertical-align: top;\n    }\n\n    .dataframe thead th {\n        text-align: right;\n    }\n</style>\n<table border=\"1\" class=\"dataframe\">\n  <thead>\n    <tr style=\"text-align: right;\">\n      <th></th>\n      <th>0</th>\n      <th>1</th>\n    </tr>\n  </thead>\n  <tbody>\n    <tr>\n      <th>0</th>\n      <td>0</td>\n      <td>1</td>\n    </tr>\n    <tr>\n      <th>1</th>\n      <td>1</td>\n      <td>1</td>\n    </tr>\n    <tr>\n      <th>2</th>\n      <td>2</td>\n      <td>27</td>\n    </tr>\n    <tr>\n      <th>3</th>\n      <td>3</td>\n      <td>1</td>\n    </tr>\n    <tr>\n      <th>4</th>\n      <td>4</td>\n      <td>1</td>\n    </tr>\n    <tr>\n      <th>5</th>\n      <td>5</td>\n      <td>1</td>\n    </tr>\n    <tr>\n      <th>6</th>\n      <td>6</td>\n      <td>1</td>\n    </tr>\n    <tr>\n      <th>7</th>\n      <td>7</td>\n      <td>1</td>\n    </tr>\n    <tr>\n      <th>8</th>\n      <td>8</td>\n      <td>1</td>\n    </tr>\n    <tr>\n      <th>9</th>\n      <td>9</td>\n      <td>1</td>\n    </tr>\n    <tr>\n      <th>10</th>\n      <td>10</td>\n      <td>1</td>\n    </tr>\n    <tr>\n      <th>11</th>\n      <td>11</td>\n      <td>1</td>\n    </tr>\n    <tr>\n      <th>12</th>\n      <td>12</td>\n      <td>1</td>\n    </tr>\n    <tr>\n      <th>13</th>\n      <td>13</td>\n      <td>1</td>\n    </tr>\n    <tr>\n      <th>14</th>\n      <td>14</td>\n      <td>1</td>\n    </tr>\n    <tr>\n      <th>15</th>\n      <td>15</td>\n      <td>1</td>\n    </tr>\n    <tr>\n      <th>16</th>\n      <td>16</td>\n      <td>1</td>\n    </tr>\n    <tr>\n      <th>17</th>\n      <td>17</td>\n      <td>1</td>\n    </tr>\n    <tr>\n      <th>18</th>\n      <td>18</td>\n      <td>1</td>\n    </tr>\n    <tr>\n      <th>19</th>\n      <td>19</td>\n      <td>1</td>\n    </tr>\n    <tr>\n      <th>20</th>\n      <td>20</td>\n      <td>1</td>\n    </tr>\n    <tr>\n      <th>21</th>\n      <td>21</td>\n      <td>1</td>\n    </tr>\n    <tr>\n      <th>22</th>\n      <td>22</td>\n      <td>1</td>\n    </tr>\n    <tr>\n      <th>23</th>\n      <td>23</td>\n      <td>1</td>\n    </tr>\n    <tr>\n      <th>24</th>\n      <td>24</td>\n      <td>1</td>\n    </tr>\n    <tr>\n      <th>25</th>\n      <td>25</td>\n      <td>1</td>\n    </tr>\n    <tr>\n      <th>26</th>\n      <td>26</td>\n      <td>1</td>\n    </tr>\n    <tr>\n      <th>27</th>\n      <td>27</td>\n      <td>2</td>\n    </tr>\n    <tr>\n      <th>28</th>\n      <td>28</td>\n      <td>1</td>\n    </tr>\n    <tr>\n      <th>29</th>\n      <td>29</td>\n      <td>1</td>\n    </tr>\n  </tbody>\n</table>\n</div>"
     },
     "metadata": {},
     "execution_count": 29
    }
   ],
   "source": [
    "## you can also verify the size of each parent (i.e. number of child each parent has)\n",
    "pd.read_csv(\"walletstr_test_size.csv\", header=None)"
   ]
  },
  {
   "cell_type": "code",
   "execution_count": 38,
   "metadata": {
    "tags": []
   },
   "outputs": [
    {
     "output_type": "stream",
     "name": "stdout",
     "text": "edit exist wallet structure file: walletstr_test.csv\n"
    }
   ],
   "source": [
    "## (2) constructor case 2: edit existed wallet strucutre\n",
    "wb2=WalletBuilder.edit(\"walletstr_test.csv\")\n",
    "edgecsvs=[\"test_edge4.csv\",\"test_edge5.csv\"]\n",
    "\n",
    "for ec in edgecsvs:\n",
    "    ecpath=directory+ec\n",
    "    with open(ecpath) as f:\n",
    "        readCSV=csv.reader(f,delimiter=',')\n",
    "        for row in readCSV:\n",
    "            i=int(row[0])\n",
    "            j=int(row[1])\n",
    "            wb2.unite(i,j)\n",
    "wb2.saveProcess()\n"
   ]
  },
  {
   "cell_type": "code",
   "execution_count": 39,
   "metadata": {},
   "outputs": [
    {
     "output_type": "execute_result",
     "data": {
      "text/plain": "     0   1\n0    0   2\n1    1   2\n2    2   2\n3    3   2\n4    4   2\n5    5   2\n6    6   2\n7    7   2\n8    8   2\n9    9   2\n10  10   2\n11  11   2\n12  12   2\n13  13   2\n14  14   2\n15  15   2\n16  16   2\n17  17   2\n18  18   2\n19  19   2\n20  20   2\n21  21   2\n22  22   2\n23  23   2\n24  24   2\n25  25   2\n26  26   2\n27  27   2\n28  28   2\n29  29  27",
      "text/html": "<div>\n<style scoped>\n    .dataframe tbody tr th:only-of-type {\n        vertical-align: middle;\n    }\n\n    .dataframe tbody tr th {\n        vertical-align: top;\n    }\n\n    .dataframe thead th {\n        text-align: right;\n    }\n</style>\n<table border=\"1\" class=\"dataframe\">\n  <thead>\n    <tr style=\"text-align: right;\">\n      <th></th>\n      <th>0</th>\n      <th>1</th>\n    </tr>\n  </thead>\n  <tbody>\n    <tr>\n      <th>0</th>\n      <td>0</td>\n      <td>2</td>\n    </tr>\n    <tr>\n      <th>1</th>\n      <td>1</td>\n      <td>2</td>\n    </tr>\n    <tr>\n      <th>2</th>\n      <td>2</td>\n      <td>2</td>\n    </tr>\n    <tr>\n      <th>3</th>\n      <td>3</td>\n      <td>2</td>\n    </tr>\n    <tr>\n      <th>4</th>\n      <td>4</td>\n      <td>2</td>\n    </tr>\n    <tr>\n      <th>5</th>\n      <td>5</td>\n      <td>2</td>\n    </tr>\n    <tr>\n      <th>6</th>\n      <td>6</td>\n      <td>2</td>\n    </tr>\n    <tr>\n      <th>7</th>\n      <td>7</td>\n      <td>2</td>\n    </tr>\n    <tr>\n      <th>8</th>\n      <td>8</td>\n      <td>2</td>\n    </tr>\n    <tr>\n      <th>9</th>\n      <td>9</td>\n      <td>2</td>\n    </tr>\n    <tr>\n      <th>10</th>\n      <td>10</td>\n      <td>2</td>\n    </tr>\n    <tr>\n      <th>11</th>\n      <td>11</td>\n      <td>2</td>\n    </tr>\n    <tr>\n      <th>12</th>\n      <td>12</td>\n      <td>2</td>\n    </tr>\n    <tr>\n      <th>13</th>\n      <td>13</td>\n      <td>2</td>\n    </tr>\n    <tr>\n      <th>14</th>\n      <td>14</td>\n      <td>2</td>\n    </tr>\n    <tr>\n      <th>15</th>\n      <td>15</td>\n      <td>2</td>\n    </tr>\n    <tr>\n      <th>16</th>\n      <td>16</td>\n      <td>2</td>\n    </tr>\n    <tr>\n      <th>17</th>\n      <td>17</td>\n      <td>2</td>\n    </tr>\n    <tr>\n      <th>18</th>\n      <td>18</td>\n      <td>2</td>\n    </tr>\n    <tr>\n      <th>19</th>\n      <td>19</td>\n      <td>2</td>\n    </tr>\n    <tr>\n      <th>20</th>\n      <td>20</td>\n      <td>2</td>\n    </tr>\n    <tr>\n      <th>21</th>\n      <td>21</td>\n      <td>2</td>\n    </tr>\n    <tr>\n      <th>22</th>\n      <td>22</td>\n      <td>2</td>\n    </tr>\n    <tr>\n      <th>23</th>\n      <td>23</td>\n      <td>2</td>\n    </tr>\n    <tr>\n      <th>24</th>\n      <td>24</td>\n      <td>2</td>\n    </tr>\n    <tr>\n      <th>25</th>\n      <td>25</td>\n      <td>2</td>\n    </tr>\n    <tr>\n      <th>26</th>\n      <td>26</td>\n      <td>2</td>\n    </tr>\n    <tr>\n      <th>27</th>\n      <td>27</td>\n      <td>2</td>\n    </tr>\n    <tr>\n      <th>28</th>\n      <td>28</td>\n      <td>2</td>\n    </tr>\n    <tr>\n      <th>29</th>\n      <td>29</td>\n      <td>27</td>\n    </tr>\n  </tbody>\n</table>\n</div>"
     },
     "metadata": {},
     "execution_count": 39
    }
   ],
   "source": [
    "## verify that the walletstr_test.csv has changed\n",
    "pd.read_csv(\"walletstr_test.csv\", header=None)"
   ]
  },
  {
   "cell_type": "code",
   "execution_count": 40,
   "metadata": {},
   "outputs": [
    {
     "output_type": "execute_result",
     "data": {
      "text/plain": "     0   1\n0    0   1\n1    1   1\n2    2  30\n3    3   1\n4    4   1\n5    5   1\n6    6   1\n7    7   1\n8    8   1\n9    9   1\n10  10   1\n11  11   1\n12  12   1\n13  13   1\n14  14   1\n15  15   1\n16  16   1\n17  17   1\n18  18   1\n19  19   1\n20  20   1\n21  21   1\n22  22   1\n23  23   1\n24  24   1\n25  25   1\n26  26   1\n27  27   2\n28  28   1\n29  29   1",
      "text/html": "<div>\n<style scoped>\n    .dataframe tbody tr th:only-of-type {\n        vertical-align: middle;\n    }\n\n    .dataframe tbody tr th {\n        vertical-align: top;\n    }\n\n    .dataframe thead th {\n        text-align: right;\n    }\n</style>\n<table border=\"1\" class=\"dataframe\">\n  <thead>\n    <tr style=\"text-align: right;\">\n      <th></th>\n      <th>0</th>\n      <th>1</th>\n    </tr>\n  </thead>\n  <tbody>\n    <tr>\n      <th>0</th>\n      <td>0</td>\n      <td>1</td>\n    </tr>\n    <tr>\n      <th>1</th>\n      <td>1</td>\n      <td>1</td>\n    </tr>\n    <tr>\n      <th>2</th>\n      <td>2</td>\n      <td>30</td>\n    </tr>\n    <tr>\n      <th>3</th>\n      <td>3</td>\n      <td>1</td>\n    </tr>\n    <tr>\n      <th>4</th>\n      <td>4</td>\n      <td>1</td>\n    </tr>\n    <tr>\n      <th>5</th>\n      <td>5</td>\n      <td>1</td>\n    </tr>\n    <tr>\n      <th>6</th>\n      <td>6</td>\n      <td>1</td>\n    </tr>\n    <tr>\n      <th>7</th>\n      <td>7</td>\n      <td>1</td>\n    </tr>\n    <tr>\n      <th>8</th>\n      <td>8</td>\n      <td>1</td>\n    </tr>\n    <tr>\n      <th>9</th>\n      <td>9</td>\n      <td>1</td>\n    </tr>\n    <tr>\n      <th>10</th>\n      <td>10</td>\n      <td>1</td>\n    </tr>\n    <tr>\n      <th>11</th>\n      <td>11</td>\n      <td>1</td>\n    </tr>\n    <tr>\n      <th>12</th>\n      <td>12</td>\n      <td>1</td>\n    </tr>\n    <tr>\n      <th>13</th>\n      <td>13</td>\n      <td>1</td>\n    </tr>\n    <tr>\n      <th>14</th>\n      <td>14</td>\n      <td>1</td>\n    </tr>\n    <tr>\n      <th>15</th>\n      <td>15</td>\n      <td>1</td>\n    </tr>\n    <tr>\n      <th>16</th>\n      <td>16</td>\n      <td>1</td>\n    </tr>\n    <tr>\n      <th>17</th>\n      <td>17</td>\n      <td>1</td>\n    </tr>\n    <tr>\n      <th>18</th>\n      <td>18</td>\n      <td>1</td>\n    </tr>\n    <tr>\n      <th>19</th>\n      <td>19</td>\n      <td>1</td>\n    </tr>\n    <tr>\n      <th>20</th>\n      <td>20</td>\n      <td>1</td>\n    </tr>\n    <tr>\n      <th>21</th>\n      <td>21</td>\n      <td>1</td>\n    </tr>\n    <tr>\n      <th>22</th>\n      <td>22</td>\n      <td>1</td>\n    </tr>\n    <tr>\n      <th>23</th>\n      <td>23</td>\n      <td>1</td>\n    </tr>\n    <tr>\n      <th>24</th>\n      <td>24</td>\n      <td>1</td>\n    </tr>\n    <tr>\n      <th>25</th>\n      <td>25</td>\n      <td>1</td>\n    </tr>\n    <tr>\n      <th>26</th>\n      <td>26</td>\n      <td>1</td>\n    </tr>\n    <tr>\n      <th>27</th>\n      <td>27</td>\n      <td>2</td>\n    </tr>\n    <tr>\n      <th>28</th>\n      <td>28</td>\n      <td>1</td>\n    </tr>\n    <tr>\n      <th>29</th>\n      <td>29</td>\n      <td>1</td>\n    </tr>\n  </tbody>\n</table>\n</div>"
     },
     "metadata": {},
     "execution_count": 40
    }
   ],
   "source": [
    "## verify that the walletstr_test_size.csv also changed\n",
    "pd.read_csv(\"walletstr_test_size.csv\", header=None)"
   ]
  },
  {
   "cell_type": "code",
   "execution_count": 42,
   "metadata": {
    "tags": []
   },
   "outputs": [
    {
     "output_type": "stream",
     "name": "stdout",
     "text": "edit exist wallet structure file: walletstr_test.csv\nextend to addr 33\n"
    }
   ],
   "source": [
    "## constructor case 3: edit existed wallet strucutre and append more addrs. Here is an example that we edit the exist \"walletstr_test_size.csv\" and add addrs undil 32\n",
    "wb3=WalletBuilder.edit_and_append(\"walletstr_test.csv\",33)\n",
    "## also, add an edge to test\n",
    "wb3.unite(24,32)\n",
    "wb3.saveProcess()"
   ]
  },
  {
   "cell_type": "code",
   "execution_count": 45,
   "metadata": {},
   "outputs": [
    {
     "output_type": "execute_result",
     "data": {
      "text/plain": "     0   1\n0    0   2\n1    1   2\n2    2   2\n3    3   2\n4    4   2\n5    5   2\n6    6   2\n7    7   2\n8    8   2\n9    9   2\n10  10   2\n11  11   2\n12  12   2\n13  13   2\n14  14   2\n15  15   2\n16  16   2\n17  17   2\n18  18   2\n19  19   2\n20  20   2\n21  21   2\n22  22   2\n23  23   2\n24  24   2\n25  25   2\n26  26   2\n27  27   2\n28  28   2\n29  29  27\n30  30  30\n31  31  31\n32  32   2",
      "text/html": "<div>\n<style scoped>\n    .dataframe tbody tr th:only-of-type {\n        vertical-align: middle;\n    }\n\n    .dataframe tbody tr th {\n        vertical-align: top;\n    }\n\n    .dataframe thead th {\n        text-align: right;\n    }\n</style>\n<table border=\"1\" class=\"dataframe\">\n  <thead>\n    <tr style=\"text-align: right;\">\n      <th></th>\n      <th>0</th>\n      <th>1</th>\n    </tr>\n  </thead>\n  <tbody>\n    <tr>\n      <th>0</th>\n      <td>0</td>\n      <td>2</td>\n    </tr>\n    <tr>\n      <th>1</th>\n      <td>1</td>\n      <td>2</td>\n    </tr>\n    <tr>\n      <th>2</th>\n      <td>2</td>\n      <td>2</td>\n    </tr>\n    <tr>\n      <th>3</th>\n      <td>3</td>\n      <td>2</td>\n    </tr>\n    <tr>\n      <th>4</th>\n      <td>4</td>\n      <td>2</td>\n    </tr>\n    <tr>\n      <th>5</th>\n      <td>5</td>\n      <td>2</td>\n    </tr>\n    <tr>\n      <th>6</th>\n      <td>6</td>\n      <td>2</td>\n    </tr>\n    <tr>\n      <th>7</th>\n      <td>7</td>\n      <td>2</td>\n    </tr>\n    <tr>\n      <th>8</th>\n      <td>8</td>\n      <td>2</td>\n    </tr>\n    <tr>\n      <th>9</th>\n      <td>9</td>\n      <td>2</td>\n    </tr>\n    <tr>\n      <th>10</th>\n      <td>10</td>\n      <td>2</td>\n    </tr>\n    <tr>\n      <th>11</th>\n      <td>11</td>\n      <td>2</td>\n    </tr>\n    <tr>\n      <th>12</th>\n      <td>12</td>\n      <td>2</td>\n    </tr>\n    <tr>\n      <th>13</th>\n      <td>13</td>\n      <td>2</td>\n    </tr>\n    <tr>\n      <th>14</th>\n      <td>14</td>\n      <td>2</td>\n    </tr>\n    <tr>\n      <th>15</th>\n      <td>15</td>\n      <td>2</td>\n    </tr>\n    <tr>\n      <th>16</th>\n      <td>16</td>\n      <td>2</td>\n    </tr>\n    <tr>\n      <th>17</th>\n      <td>17</td>\n      <td>2</td>\n    </tr>\n    <tr>\n      <th>18</th>\n      <td>18</td>\n      <td>2</td>\n    </tr>\n    <tr>\n      <th>19</th>\n      <td>19</td>\n      <td>2</td>\n    </tr>\n    <tr>\n      <th>20</th>\n      <td>20</td>\n      <td>2</td>\n    </tr>\n    <tr>\n      <th>21</th>\n      <td>21</td>\n      <td>2</td>\n    </tr>\n    <tr>\n      <th>22</th>\n      <td>22</td>\n      <td>2</td>\n    </tr>\n    <tr>\n      <th>23</th>\n      <td>23</td>\n      <td>2</td>\n    </tr>\n    <tr>\n      <th>24</th>\n      <td>24</td>\n      <td>2</td>\n    </tr>\n    <tr>\n      <th>25</th>\n      <td>25</td>\n      <td>2</td>\n    </tr>\n    <tr>\n      <th>26</th>\n      <td>26</td>\n      <td>2</td>\n    </tr>\n    <tr>\n      <th>27</th>\n      <td>27</td>\n      <td>2</td>\n    </tr>\n    <tr>\n      <th>28</th>\n      <td>28</td>\n      <td>2</td>\n    </tr>\n    <tr>\n      <th>29</th>\n      <td>29</td>\n      <td>27</td>\n    </tr>\n    <tr>\n      <th>30</th>\n      <td>30</td>\n      <td>30</td>\n    </tr>\n    <tr>\n      <th>31</th>\n      <td>31</td>\n      <td>31</td>\n    </tr>\n    <tr>\n      <th>32</th>\n      <td>32</td>\n      <td>2</td>\n    </tr>\n  </tbody>\n</table>\n</div>"
     },
     "metadata": {},
     "execution_count": 45
    }
   ],
   "source": [
    "## verify that the walletstr_test.csv and walletstr_test_size.csv has changed\n",
    "pd.read_csv(\"walletstr_test.csv\", header=None)"
   ]
  },
  {
   "cell_type": "code",
   "execution_count": 44,
   "metadata": {},
   "outputs": [
    {
     "output_type": "execute_result",
     "data": {
      "text/plain": "     0   1\n0    0   1\n1    1   1\n2    2  31\n3    3   1\n4    4   1\n5    5   1\n6    6   1\n7    7   1\n8    8   1\n9    9   1\n10  10   1\n11  11   1\n12  12   1\n13  13   1\n14  14   1\n15  15   1\n16  16   1\n17  17   1\n18  18   1\n19  19   1\n20  20   1\n21  21   1\n22  22   1\n23  23   1\n24  24   1\n25  25   1\n26  26   1\n27  27   2\n28  28   1\n29  29   1\n30  30   1\n31  31   1\n32  32   1",
      "text/html": "<div>\n<style scoped>\n    .dataframe tbody tr th:only-of-type {\n        vertical-align: middle;\n    }\n\n    .dataframe tbody tr th {\n        vertical-align: top;\n    }\n\n    .dataframe thead th {\n        text-align: right;\n    }\n</style>\n<table border=\"1\" class=\"dataframe\">\n  <thead>\n    <tr style=\"text-align: right;\">\n      <th></th>\n      <th>0</th>\n      <th>1</th>\n    </tr>\n  </thead>\n  <tbody>\n    <tr>\n      <th>0</th>\n      <td>0</td>\n      <td>1</td>\n    </tr>\n    <tr>\n      <th>1</th>\n      <td>1</td>\n      <td>1</td>\n    </tr>\n    <tr>\n      <th>2</th>\n      <td>2</td>\n      <td>31</td>\n    </tr>\n    <tr>\n      <th>3</th>\n      <td>3</td>\n      <td>1</td>\n    </tr>\n    <tr>\n      <th>4</th>\n      <td>4</td>\n      <td>1</td>\n    </tr>\n    <tr>\n      <th>5</th>\n      <td>5</td>\n      <td>1</td>\n    </tr>\n    <tr>\n      <th>6</th>\n      <td>6</td>\n      <td>1</td>\n    </tr>\n    <tr>\n      <th>7</th>\n      <td>7</td>\n      <td>1</td>\n    </tr>\n    <tr>\n      <th>8</th>\n      <td>8</td>\n      <td>1</td>\n    </tr>\n    <tr>\n      <th>9</th>\n      <td>9</td>\n      <td>1</td>\n    </tr>\n    <tr>\n      <th>10</th>\n      <td>10</td>\n      <td>1</td>\n    </tr>\n    <tr>\n      <th>11</th>\n      <td>11</td>\n      <td>1</td>\n    </tr>\n    <tr>\n      <th>12</th>\n      <td>12</td>\n      <td>1</td>\n    </tr>\n    <tr>\n      <th>13</th>\n      <td>13</td>\n      <td>1</td>\n    </tr>\n    <tr>\n      <th>14</th>\n      <td>14</td>\n      <td>1</td>\n    </tr>\n    <tr>\n      <th>15</th>\n      <td>15</td>\n      <td>1</td>\n    </tr>\n    <tr>\n      <th>16</th>\n      <td>16</td>\n      <td>1</td>\n    </tr>\n    <tr>\n      <th>17</th>\n      <td>17</td>\n      <td>1</td>\n    </tr>\n    <tr>\n      <th>18</th>\n      <td>18</td>\n      <td>1</td>\n    </tr>\n    <tr>\n      <th>19</th>\n      <td>19</td>\n      <td>1</td>\n    </tr>\n    <tr>\n      <th>20</th>\n      <td>20</td>\n      <td>1</td>\n    </tr>\n    <tr>\n      <th>21</th>\n      <td>21</td>\n      <td>1</td>\n    </tr>\n    <tr>\n      <th>22</th>\n      <td>22</td>\n      <td>1</td>\n    </tr>\n    <tr>\n      <th>23</th>\n      <td>23</td>\n      <td>1</td>\n    </tr>\n    <tr>\n      <th>24</th>\n      <td>24</td>\n      <td>1</td>\n    </tr>\n    <tr>\n      <th>25</th>\n      <td>25</td>\n      <td>1</td>\n    </tr>\n    <tr>\n      <th>26</th>\n      <td>26</td>\n      <td>1</td>\n    </tr>\n    <tr>\n      <th>27</th>\n      <td>27</td>\n      <td>2</td>\n    </tr>\n    <tr>\n      <th>28</th>\n      <td>28</td>\n      <td>1</td>\n    </tr>\n    <tr>\n      <th>29</th>\n      <td>29</td>\n      <td>1</td>\n    </tr>\n    <tr>\n      <th>30</th>\n      <td>30</td>\n      <td>1</td>\n    </tr>\n    <tr>\n      <th>31</th>\n      <td>31</td>\n      <td>1</td>\n    </tr>\n    <tr>\n      <th>32</th>\n      <td>32</td>\n      <td>1</td>\n    </tr>\n  </tbody>\n</table>\n</div>"
     },
     "metadata": {},
     "execution_count": 44
    }
   ],
   "source": [
    "pd.read_csv(\"walletstr_test_size.csv\", header=None)"
   ]
  },
  {
   "cell_type": "code",
   "execution_count": 48,
   "metadata": {
    "tags": []
   },
   "outputs": [
    {
     "output_type": "stream",
     "name": "stdout",
     "text": "find walletID from exist wallet structure file: walletstr_test.csv\n"
    }
   ],
   "source": [
    "# wallet example: when you finish feeding all edges into the wallet builder, you can then export the wallet csv\n",
    "## the wallet object takes the wallet structure result from wallet builder, and it only needs the file that store the parent id. \n",
    "## mainly, it will find the root for all vertices, and we'll use these roots as the wallet id\n",
    "## input file name:\n",
    "walletstrcsv=\"walletstr_test.csv\"\n",
    "## desired output file name\"\n",
    "walletcsv=\"wallet_test.csv\"\n",
    "\n",
    "w=Wallet(walletstrcsv,walletcsv)\n",
    "w.constructWalletCSV()"
   ]
  },
  {
   "cell_type": "code",
   "execution_count": 49,
   "metadata": {},
   "outputs": [
    {
     "output_type": "execute_result",
     "data": {
      "text/plain": "     0   1\n0    0   2\n1    1   2\n2    2   2\n3    3   2\n4    4   2\n5    5   2\n6    6   2\n7    7   2\n8    8   2\n9    9   2\n10  10   2\n11  11   2\n12  12   2\n13  13   2\n14  14   2\n15  15   2\n16  16   2\n17  17   2\n18  18   2\n19  19   2\n20  20   2\n21  21   2\n22  22   2\n23  23   2\n24  24   2\n25  25   2\n26  26   2\n27  27   2\n28  28   2\n29  29   2\n30  30  30\n31  31  31\n32  32   2",
      "text/html": "<div>\n<style scoped>\n    .dataframe tbody tr th:only-of-type {\n        vertical-align: middle;\n    }\n\n    .dataframe tbody tr th {\n        vertical-align: top;\n    }\n\n    .dataframe thead th {\n        text-align: right;\n    }\n</style>\n<table border=\"1\" class=\"dataframe\">\n  <thead>\n    <tr style=\"text-align: right;\">\n      <th></th>\n      <th>0</th>\n      <th>1</th>\n    </tr>\n  </thead>\n  <tbody>\n    <tr>\n      <th>0</th>\n      <td>0</td>\n      <td>2</td>\n    </tr>\n    <tr>\n      <th>1</th>\n      <td>1</td>\n      <td>2</td>\n    </tr>\n    <tr>\n      <th>2</th>\n      <td>2</td>\n      <td>2</td>\n    </tr>\n    <tr>\n      <th>3</th>\n      <td>3</td>\n      <td>2</td>\n    </tr>\n    <tr>\n      <th>4</th>\n      <td>4</td>\n      <td>2</td>\n    </tr>\n    <tr>\n      <th>5</th>\n      <td>5</td>\n      <td>2</td>\n    </tr>\n    <tr>\n      <th>6</th>\n      <td>6</td>\n      <td>2</td>\n    </tr>\n    <tr>\n      <th>7</th>\n      <td>7</td>\n      <td>2</td>\n    </tr>\n    <tr>\n      <th>8</th>\n      <td>8</td>\n      <td>2</td>\n    </tr>\n    <tr>\n      <th>9</th>\n      <td>9</td>\n      <td>2</td>\n    </tr>\n    <tr>\n      <th>10</th>\n      <td>10</td>\n      <td>2</td>\n    </tr>\n    <tr>\n      <th>11</th>\n      <td>11</td>\n      <td>2</td>\n    </tr>\n    <tr>\n      <th>12</th>\n      <td>12</td>\n      <td>2</td>\n    </tr>\n    <tr>\n      <th>13</th>\n      <td>13</td>\n      <td>2</td>\n    </tr>\n    <tr>\n      <th>14</th>\n      <td>14</td>\n      <td>2</td>\n    </tr>\n    <tr>\n      <th>15</th>\n      <td>15</td>\n      <td>2</td>\n    </tr>\n    <tr>\n      <th>16</th>\n      <td>16</td>\n      <td>2</td>\n    </tr>\n    <tr>\n      <th>17</th>\n      <td>17</td>\n      <td>2</td>\n    </tr>\n    <tr>\n      <th>18</th>\n      <td>18</td>\n      <td>2</td>\n    </tr>\n    <tr>\n      <th>19</th>\n      <td>19</td>\n      <td>2</td>\n    </tr>\n    <tr>\n      <th>20</th>\n      <td>20</td>\n      <td>2</td>\n    </tr>\n    <tr>\n      <th>21</th>\n      <td>21</td>\n      <td>2</td>\n    </tr>\n    <tr>\n      <th>22</th>\n      <td>22</td>\n      <td>2</td>\n    </tr>\n    <tr>\n      <th>23</th>\n      <td>23</td>\n      <td>2</td>\n    </tr>\n    <tr>\n      <th>24</th>\n      <td>24</td>\n      <td>2</td>\n    </tr>\n    <tr>\n      <th>25</th>\n      <td>25</td>\n      <td>2</td>\n    </tr>\n    <tr>\n      <th>26</th>\n      <td>26</td>\n      <td>2</td>\n    </tr>\n    <tr>\n      <th>27</th>\n      <td>27</td>\n      <td>2</td>\n    </tr>\n    <tr>\n      <th>28</th>\n      <td>28</td>\n      <td>2</td>\n    </tr>\n    <tr>\n      <th>29</th>\n      <td>29</td>\n      <td>2</td>\n    </tr>\n    <tr>\n      <th>30</th>\n      <td>30</td>\n      <td>30</td>\n    </tr>\n    <tr>\n      <th>31</th>\n      <td>31</td>\n      <td>31</td>\n    </tr>\n    <tr>\n      <th>32</th>\n      <td>32</td>\n      <td>2</td>\n    </tr>\n  </tbody>\n</table>\n</div>"
     },
     "metadata": {},
     "execution_count": 49
    }
   ],
   "source": [
    "## verify the wallet_test.csv is correct\n",
    "pd.read_csv(\"wallet_test.csv\",header=None)\n",
    "## first column is the addr id, second column is the wallet id\n",
    "## it is shown that, comparing to \"walletstr_test.csv\", addr29 has changed, since its parent is 27, and 27's parent is 2. Thus, addr29's root is 2, i.e. its wallet id is 2"
   ]
  }
 ]
}